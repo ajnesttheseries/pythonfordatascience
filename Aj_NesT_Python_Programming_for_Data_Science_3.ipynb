{
  "nbformat": 4,
  "nbformat_minor": 0,
  "metadata": {
    "colab": {
      "provenance": [],
      "collapsed_sections": []
    },
    "kernelspec": {
      "name": "python3",
      "display_name": "Python 3"
    },
    "language_info": {
      "name": "python"
    }
  },
  "cells": [
    {
      "cell_type": "markdown",
      "source": [
        "#Learn to Python Programming\n",
        "\n",
        "![Python-Logo.webp](data:image/webp;base64,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)\n",
        "\n",
        "Todsapon Banklongsi\n",
        "\n",
        "[Aj. NesT the Series](https://youtube.com/ajnesttheseries)"
      ],
      "metadata": {
        "id": "xn5B9RYnmpRm"
      }
    },
    {
      "cell_type": "markdown",
      "source": [
        "##3. Python Functions\n",
        "\n",
        "###Ex3.1 ใช้ Python เรียกใช้ฟังก์ชันพื้นฐาน Built-in functions"
      ],
      "metadata": {
        "id": "KvwYH6RznM8v"
      }
    },
    {
      "cell_type": "code",
      "execution_count": null,
      "metadata": {
        "colab": {
          "base_uri": "https://localhost:8080/"
        },
        "id": "-w2wC8OLmgmr",
        "outputId": "998777a9-bc9b-43da-971e-8c76203fc8e7"
      },
      "outputs": [
        {
          "output_type": "stream",
          "name": "stdout",
          "text": [
            "<class 'list'>\n",
            "4\n",
            "True\n",
            "1\n"
          ]
        }
      ],
      "source": [
        "#Ex3.1 ใช้ Python เรียกใช้ฟังก์ชันพื้นฐาน Built-in functions\n",
        "#Create variables var1 and var2\n",
        "data1 = [2, 4, 6, 8]\n",
        "data2 = True\n",
        "\n",
        "#Print out type of data1\n",
        "print(type(data1))\n",
        "\n",
        "#Print out length of data1\n",
        "print(len(data1))\n",
        "\n",
        "#Convert data2 to an integer: output2\n",
        "print(data2)\n",
        "output2 = int(data2)\n",
        "print(output2)"
      ]
    },
    {
      "cell_type": "markdown",
      "source": [
        "###Ex3.2 ใช้ Python สร้าง Multiple arguments ฟังก์ชัน Sorted"
      ],
      "metadata": {
        "id": "0WcslBMNqqot"
      }
    },
    {
      "cell_type": "code",
      "source": [
        "#Ex3.2 ใช้ Python สร้าง Multiple arguments\n",
        "#Create lists area1 and area2\n",
        "area1 = [1404.89, 1269.34, 1512.28]\n",
        "area2 = [1620.14, 171.49]\n",
        "\n",
        "#Paste together area1 and area2: data\n",
        "data = area1 + area2\n",
        "\n",
        "#Sort data in descending order: data_sorted\n",
        "data_sorted_desc = sorted(data, reverse=True)\n",
        "\n",
        "#Print out data_sorted\n",
        "print(\"Descending Order\")\n",
        "print(data_sorted_desc)\n",
        "\n",
        "#Sort data in ascending order: data_sorted\n",
        "data_sorted_asc = sorted(data, reverse=False)\n",
        "\n",
        "#Print out data_sorted\n",
        "print(\"Ascending Order\")\n",
        "print(data_sorted_asc)"
      ],
      "metadata": {
        "colab": {
          "base_uri": "https://localhost:8080/"
        },
        "id": "YmlpHQUEq0J5",
        "outputId": "1ec8d4dd-54f2-4762-ea8c-d978cc17a82a"
      },
      "execution_count": null,
      "outputs": [
        {
          "output_type": "stream",
          "name": "stdout",
          "text": [
            "Descending Order\n",
            "[1620.14, 1512.28, 1404.89, 1269.34, 171.49]\n",
            "Ascending Order\n",
            "[171.49, 1269.34, 1404.89, 1512.28, 1620.14]\n"
          ]
        }
      ]
    },
    {
      "cell_type": "markdown",
      "source": [
        "###Ex3.3 ใช้ Python สร้าง String Methods\n"
      ],
      "metadata": {
        "id": "Ig_YS0yX9qZM"
      }
    },
    {
      "cell_type": "code",
      "source": [
        "#Ex2.3 ใช้ Python Create list แบบต่าง ๆ\n",
        "#string to experiment with: brand\n",
        "brand = \"Ferrari\"\n",
        "\n",
        "#Use upper() on brand: brande_up\n",
        "brand_up = brand.upper()\n",
        "\n",
        "#Print out brand and brand_up\n",
        "print(brand)\n",
        "print(brand_up)\n",
        "\n",
        "#Print out the number of r's in brand\n",
        "print(brand.count('r'))"
      ],
      "metadata": {
        "colab": {
          "base_uri": "https://localhost:8080/"
        },
        "id": "l-ed3jgA-Fu_",
        "outputId": "2ce4eae3-f8cd-45f2-943c-84c2cdbc2a5f"
      },
      "execution_count": null,
      "outputs": [
        {
          "output_type": "stream",
          "name": "stdout",
          "text": [
            "Ferrari\n",
            "FERRARI\n",
            "3\n"
          ]
        }
      ]
    },
    {
      "cell_type": "markdown",
      "source": [
        "###Ex3.4 ใช้ Python สร้าง List Methods"
      ],
      "metadata": {
        "id": "En-348BhAXyU"
      }
    },
    {
      "cell_type": "code",
      "source": [
        "#Ex3.4 ใช้ Python สร้าง List Methods\n",
        "#Create list areas\n",
        "areas = [1404.89, 1269.34, 1512.28, 1269.34, 1349.34, 1269.34]\n",
        "\n",
        "#Print out the index of the element 1349.34\n",
        "print(areas.index(1349.34))\n",
        "\n",
        "#Print out how often 1269.34 appears in areas\n",
        "print(areas.count(1269.34))"
      ],
      "metadata": {
        "colab": {
          "base_uri": "https://localhost:8080/"
        },
        "id": "lEeRq09gA5hn",
        "outputId": "f3d10233-27dc-4deb-d3c1-2324003dc3ee"
      },
      "execution_count": null,
      "outputs": [
        {
          "output_type": "stream",
          "name": "stdout",
          "text": [
            "4\n",
            "3\n"
          ]
        }
      ]
    },
    {
      "cell_type": "markdown",
      "source": [
        "###Ex3.5 ใช้ Python สร้าง List Methods Continue\n"
      ],
      "metadata": {
        "id": "cmUo1oIZFNAf"
      }
    },
    {
      "cell_type": "code",
      "source": [
        "#Ex3.5 ใช้ Python สร้าง List Methods Continue\n",
        "#Create list areas\n",
        "areas = [1404.89, 1269.34, 1512.28, 1269.34, 1349.34, 1269.34]\n",
        "\n",
        "#Use append twice to add Ferrari and Lamborgini size\n",
        "areas.append(1936.69)\n",
        "areas.append(2148.38)\n",
        "\n",
        "#Print out areas\n",
        "print(\"Before\")\n",
        "print(areas)\n",
        "\n",
        "#Reverse the orders of the elements in areas\n",
        "print(\"After Reverse\")\n",
        "areas.reverse()\n",
        "\n",
        "#Print out areas\n",
        "print(areas)"
      ],
      "metadata": {
        "colab": {
          "base_uri": "https://localhost:8080/"
        },
        "id": "Rj1ecH8zHxEb",
        "outputId": "a30bb247-06b9-47dc-b368-7326d1d0008c"
      },
      "execution_count": null,
      "outputs": [
        {
          "output_type": "stream",
          "name": "stdout",
          "text": [
            "Before\n",
            "[1404.89, 1269.34, 1512.28, 1269.34, 1349.34, 1269.34, 1936.69, 2148.38]\n",
            "After Reverse\n",
            "[2148.38, 1936.69, 1269.34, 1349.34, 1269.34, 1512.28, 1269.34, 1404.89]\n"
          ]
        }
      ]
    },
    {
      "cell_type": "markdown",
      "source": [
        "###Ex3.6 ใช้ Python ทำการ Import Package"
      ],
      "metadata": {
        "id": "vDLWuYxYM1CG"
      }
    },
    {
      "cell_type": "code",
      "source": [
        "#Ex3.6 ใช้ Python ทำการ Import Package\n",
        "#Definition of radius\n",
        "r = 0.63\n",
        "\n",
        "#Import the math package\n",
        "import math\n",
        "\n",
        "#Calculate Circle\n",
        "circle = 2 * r * math.pi\n",
        "\n",
        "#Calculate Area\n",
        "area = math.pi * r ** 2\n",
        "\n",
        "#Build printout\n",
        "print(\"Circle: \" + str(circle))\n",
        "print(\"Area: \" + str(area))"
      ],
      "metadata": {
        "colab": {
          "base_uri": "https://localhost:8080/"
        },
        "id": "hYoYD_WrPZjZ",
        "outputId": "b85c2ba5-2060-419c-bd68-1c273439d266"
      },
      "execution_count": null,
      "outputs": [
        {
          "output_type": "stream",
          "name": "stdout",
          "text": [
            "Circle: 3.958406743523139\n",
            "Area: 1.246898124209789\n"
          ]
        }
      ]
    },
    {
      "cell_type": "markdown",
      "source": [
        "###Ex3.7 ใช้ Python สร้าง User Defined Functions 1"
      ],
      "metadata": {
        "id": "zKd7BO9NSSFB"
      }
    },
    {
      "cell_type": "code",
      "source": [
        "#Ex3.7 ใช้ Python สร้าง User Defined Functions 1\n",
        "var1 = \"Python\"\n",
        "def func1():\n",
        "    var1 = \"Java\"\n",
        "    print(\"In side func1() var1 = \", var1)\n",
        "\n",
        "def func2():\n",
        "    print(\"In side func2() var1 = \", var1)\n",
        "func1()\n",
        "func2()"
      ],
      "metadata": {
        "colab": {
          "base_uri": "https://localhost:8080/"
        },
        "id": "LVZ03T9FSeM3",
        "outputId": "f67e12db-1b65-46a7-b663-f4a617c291ca"
      },
      "execution_count": null,
      "outputs": [
        {
          "output_type": "stream",
          "name": "stdout",
          "text": [
            "In side func1() var1 =  Java\n",
            "In side func2() var1 =  Python\n"
          ]
        }
      ]
    },
    {
      "cell_type": "markdown",
      "source": [
        "###Ex3.8 ใช้ Python สร้าง User Defined Functions 2"
      ],
      "metadata": {
        "id": "yTb9D1zeOrtz"
      }
    },
    {
      "cell_type": "code",
      "source": [
        "#Ex3.8 ใช้ Python สร้าง User Defined Functions 2\n",
        "#Function without Arguments\n",
        "def printX():\n",
        "  print(\"This is Python Programming\")\n",
        "  print(\"This is Python Programming\")\n",
        "  print(\"This is Python Programming\")\n",
        "print(\"Function without Arguments\") \n",
        "printX()"
      ],
      "metadata": {
        "colab": {
          "base_uri": "https://localhost:8080/"
        },
        "id": "9JUGCIyzPAQ2",
        "outputId": "67bc57a2-7c91-4d9c-bb89-e8d9fe60d72e"
      },
      "execution_count": null,
      "outputs": [
        {
          "output_type": "stream",
          "name": "stdout",
          "text": [
            "Function without Arguments\n",
            "This is Python Programming\n",
            "This is Python Programming\n",
            "This is Python Programming\n"
          ]
        }
      ]
    },
    {
      "cell_type": "markdown",
      "source": [
        "###Ex3.9 ใช้ Python สร้าง User Defined Functions 3"
      ],
      "metadata": {
        "id": "fi8U7paoOzCe"
      }
    },
    {
      "cell_type": "code",
      "source": [
        "#Ex3.9 ใช้ Python สร้าง User Defined Functions 3\n",
        "#Call a Function\n",
        "def avg_number(x, y):\n",
        "  print(\"Average of \",x,\" and \",y, \" is \", (x+y)/2)\n",
        "avg_number(3,4)"
      ],
      "metadata": {
        "colab": {
          "base_uri": "https://localhost:8080/"
        },
        "id": "jo54pU5uO3pE",
        "outputId": "408fc8c4-c7f6-4f9b-b51c-908a9135514a"
      },
      "execution_count": null,
      "outputs": [
        {
          "output_type": "stream",
          "name": "stdout",
          "text": [
            "Average of  3  and  4  is  3.5\n"
          ]
        }
      ]
    }
  ]
}