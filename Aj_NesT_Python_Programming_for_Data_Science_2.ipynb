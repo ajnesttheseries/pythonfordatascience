{
  "nbformat": 4,
  "nbformat_minor": 0,
  "metadata": {
    "colab": {
      "provenance": [],
      "collapsed_sections": []
    },
    "kernelspec": {
      "name": "python3",
      "display_name": "Python 3"
    },
    "language_info": {
      "name": "python"
    }
  },
  "cells": [
    {
      "cell_type": "markdown",
      "source": [
        "#Learn to Python Programming\n",
        "\n",
        "![Python-Logo.webp](data:image/webp;base64,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)\n",
        "\n",
        "Todsapon Banklongsi\n",
        "\n",
        "[Aj. NesT the Series](https://youtube.com/ajnesttheseries)"
      ],
      "metadata": {
        "id": "xn5B9RYnmpRm"
      }
    },
    {
      "cell_type": "markdown",
      "source": [
        "##2. Python Lists\n",
        "\n",
        "###Ex2.1 ใช้ Python Create a list เก็บข้อมูลแบบเป็นรายการ"
      ],
      "metadata": {
        "id": "KvwYH6RznM8v"
      }
    },
    {
      "cell_type": "code",
      "execution_count": null,
      "metadata": {
        "colab": {
          "base_uri": "https://localhost:8080/"
        },
        "id": "-w2wC8OLmgmr",
        "outputId": "cbd65fbf-8f51-4f46-d64f-269de0fe6e83"
      },
      "outputs": [
        {
          "output_type": "stream",
          "name": "stdout",
          "text": [
            "[1404.89, 1269.34, 1512.28, 1620.14, 171.49]\n"
          ]
        }
      ],
      "source": [
        "#Ex2.1 ใช้ Python Create a list เก็บข้อมูลแบบเป็นรายการ\n",
        "#Motor Show area varibles (in square meters)\n",
        "Toyota = 1404.89\n",
        "BMW = 1269.34\n",
        "Honda = 1512.28\n",
        "Mazda = 1620.14\n",
        "Bentley = 171.49\n",
        "\n",
        "#Create list areas\n",
        "areas = [Toyota, BMW, Honda, Mazda, Bentley]\n",
        "\n",
        "#Print person age\n",
        "print(areas)"
      ]
    },
    {
      "cell_type": "markdown",
      "source": [
        "###Ex2.2 ใช้ Python Create list with different types เก็บข้อมูลแบบรายการต่างชนิดกัน"
      ],
      "metadata": {
        "id": "0WcslBMNqqot"
      }
    },
    {
      "cell_type": "code",
      "source": [
        "#Ex2.2 ใช้ Python Create list with different types เก็บข้อมูลแบบรายการต่างชนิดกัน\n",
        "#Motor Show area varibles (in square meters)\n",
        "Toyota = 1404.89\n",
        "BMW = 1269.34\n",
        "Honda = 1512.28\n",
        "Mazda = 1620.14\n",
        "Bentley = 171.49\n",
        "#Adapt list areas\n",
        "areas = [\"Toyota\", Toyota, \"BMW\", BMW, \"Honda\", Honda, \"Mazda\", Mazda, \"Bentley\", Bentley]\n",
        "#Print areas\n",
        "print(areas)"
      ],
      "metadata": {
        "colab": {
          "base_uri": "https://localhost:8080/"
        },
        "id": "YmlpHQUEq0J5",
        "outputId": "065b8ac9-6efc-468c-8989-d9aca10105f2"
      },
      "execution_count": null,
      "outputs": [
        {
          "output_type": "stream",
          "name": "stdout",
          "text": [
            "['Toyota', 1404.89, 'BMW', 1269.34, 'Honda', 1512.28, 'Mazda', 1620.14, 'Bentley', 171.49]\n"
          ]
        }
      ]
    },
    {
      "cell_type": "markdown",
      "source": [
        "###Ex2.3 ใช้ Python Create list แบบต่าง ๆ\n"
      ],
      "metadata": {
        "id": "Ig_YS0yX9qZM"
      }
    },
    {
      "cell_type": "code",
      "source": [
        "#Ex2.3 ใช้ Python Create list แบบต่าง ๆ\n",
        "list1 = [2, 4, 5, 3]\n",
        "list2 = [[2,3,4], [5, 6, 8]]\n",
        "list3 = [2 + 3, \"B\" * 6, 9]\n",
        "print(list1)\n",
        "print(list2)\n",
        "print(list3)"
      ],
      "metadata": {
        "colab": {
          "base_uri": "https://localhost:8080/"
        },
        "id": "l-ed3jgA-Fu_",
        "outputId": "b40c0550-2627-4d5e-c4d1-764e653a46ac"
      },
      "execution_count": null,
      "outputs": [
        {
          "output_type": "stream",
          "name": "stdout",
          "text": [
            "[2, 4, 5, 3]\n",
            "[[2, 3, 4], [5, 6, 8]]\n",
            "[5, 'BBBBBB', 9]\n"
          ]
        }
      ]
    },
    {
      "cell_type": "markdown",
      "source": [
        "###Ex2.4 ใช้ Python สร้าง List of lists"
      ],
      "metadata": {
        "id": "En-348BhAXyU"
      }
    },
    {
      "cell_type": "code",
      "source": [
        "#Ex2.4 ใช้ Python List of lists ลิสต์ของรายการ\n",
        "#Motor Show area variables (in square meters)\n",
        "Toyota = 1404.89\n",
        "BMW = 1269.34\n",
        "Honda = 1512.28\n",
        "Mazda = 1620.14\n",
        "Bentley = 171.49\n",
        "\n",
        "#Motor Show information as list of lists\n",
        "motorshow = [[\"Toyota\", Toyota],\n",
        "             [\"BMW\", BMW],\n",
        "             [\"Honda\", Honda],\n",
        "             [\"Mazda\", Mazda],\n",
        "             [\"Bentley\", Bentley]]\n",
        "\n",
        "#Print out Motor Show\n",
        "print(motorshow)\n",
        "\n",
        "#Print out the type of Motor Show\n",
        "print(type(motorshow))"
      ],
      "metadata": {
        "colab": {
          "base_uri": "https://localhost:8080/"
        },
        "id": "lEeRq09gA5hn",
        "outputId": "f310d17a-ceaf-47ef-c441-33312d5a6cf3"
      },
      "execution_count": null,
      "outputs": [
        {
          "output_type": "stream",
          "name": "stdout",
          "text": [
            "[['Toyota', 1404.89], ['BMW', 1269.34], ['Honda', 1512.28], ['Mazda', 1620.14], ['Bentley', 171.49]]\n",
            "<class 'list'>\n"
          ]
        }
      ]
    },
    {
      "cell_type": "markdown",
      "source": [
        "###Ex2.5 ใช้ Python สร้าง Subset and Conquer\n"
      ],
      "metadata": {
        "id": "cmUo1oIZFNAf"
      }
    },
    {
      "cell_type": "code",
      "source": [
        "#Ex2.5 ใช้ Python สร้าง Subset and conquer\n",
        "#Create the areas list\n",
        "areas = [\"Toyota\", 1404.89, \"BMW\", 1269.34, \"Honda\", 1512.28, \"Mazda\", 1620.14, \"Bentley\", 171.49]\n",
        "\n",
        "#Print out second element from areas\n",
        "print(areas[1])\n",
        "\n",
        "#Print out last element from areas\n",
        "print(areas[9])\n",
        "\n",
        "#Print out the area of the Mazda\n",
        "print(areas[7])"
      ],
      "metadata": {
        "colab": {
          "base_uri": "https://localhost:8080/"
        },
        "id": "Rj1ecH8zHxEb",
        "outputId": "c998d6aa-4aa9-490d-baa1-1ef3fac866ff"
      },
      "execution_count": null,
      "outputs": [
        {
          "output_type": "stream",
          "name": "stdout",
          "text": [
            "1404.89\n",
            "171.49\n",
            "1620.14\n"
          ]
        }
      ]
    },
    {
      "cell_type": "markdown",
      "source": [
        "###Ex2.6 ใช้ Python สร้าง Subset and Calculate\n"
      ],
      "metadata": {
        "id": "vDLWuYxYM1CG"
      }
    },
    {
      "cell_type": "code",
      "source": [
        "#Ex2.6 ใช้ Python สร้าง Subset and Calculate\n",
        "#Create the areas list\n",
        "areas = [\"Toyota\", 1404.89, \"BMW\", 1269.34, \"Honda\", 1512.28, \"Mazda\", 1620.14, \"Bentley\", 171.49]\n",
        "\n",
        "#Sum of Toyota and Honda area: toyota_honda_area\n",
        "toyota_honda_area = areas[3] + areas[9]\n",
        "\n",
        "#Print the variable toyota_honda_area\n",
        "print(toyota_honda_area)"
      ],
      "metadata": {
        "colab": {
          "base_uri": "https://localhost:8080/"
        },
        "id": "hYoYD_WrPZjZ",
        "outputId": "4fe61202-2e4b-4fb8-9c9e-e3fd1e13f53c"
      },
      "execution_count": null,
      "outputs": [
        {
          "output_type": "stream",
          "name": "stdout",
          "text": [
            "1440.83\n"
          ]
        }
      ]
    },
    {
      "cell_type": "markdown",
      "source": [
        "###Ex2.7 ใช้ Python สร้าง Slicing and Dicing"
      ],
      "metadata": {
        "id": "zKd7BO9NSSFB"
      }
    },
    {
      "cell_type": "code",
      "source": [
        "#Ex2.7 ใช้ Python สร้าง Slicing and Dicing\n",
        "#Create the areas list\n",
        "areas = [\"Toyota\", 1404.89, \"BMW\", 1269.34, \"Honda\", 1512.28, \"Mazda\", 1620.14, \"Bentley\", 171.49]\n",
        "\n",
        "#Use slicing to create downstairs (First 6 elements of areas)\n",
        "#Method 1\n",
        "downstairs = areas[0:6]\n",
        "#Method 2\n",
        "downstairs_opt = areas[:6]\n",
        "\n",
        "#Use slicing to create upstairs (Last 4 elements of areas)\n",
        "#Method 1\n",
        "upstairs = areas[6:10]\n",
        "#Method 2\n",
        "upstairs_opt = areas[6:]\n",
        "\n",
        "#Print out downstairs and upstairs\n",
        "print(\"Method 1\")\n",
        "print(downstairs)\n",
        "print(upstairs)\n",
        "print(\"\\nMethod 2\")\n",
        "print(downstairs_opt)\n",
        "print(upstairs_opt)"
      ],
      "metadata": {
        "colab": {
          "base_uri": "https://localhost:8080/"
        },
        "id": "LVZ03T9FSeM3",
        "outputId": "51d8f05d-e3d1-41b7-8c40-a22f905d1617"
      },
      "execution_count": null,
      "outputs": [
        {
          "output_type": "stream",
          "name": "stdout",
          "text": [
            "Method 1\n",
            "['Toyota', 1404.89, 'BMW', 1269.34, 'Honda', 1512.28]\n",
            "['Mazda', 1620.14, 'Bentley', 171.49]\n",
            "\n",
            "Method 2\n",
            "['Toyota', 1404.89, 'BMW', 1269.34, 'Honda', 1512.28]\n",
            "['Mazda', 1620.14, 'Bentley', 171.49]\n"
          ]
        }
      ]
    },
    {
      "cell_type": "markdown",
      "source": [
        "###Ex2.8 ใช้ Python ทำการ Replace list elements"
      ],
      "metadata": {
        "id": "s6-fc6zOVsSd"
      }
    },
    {
      "cell_type": "code",
      "source": [
        "#Ex2.8 ใช้ Python ทำการ Replace list elements\n",
        "#Create the areas list\n",
        "areas = [\"Toyota\", 1404.89, \"BMW\", 1269.34, \"Honda\", 1512.28, \"Mazda\", 1620.14, \"Bentley\", 171.49]\n",
        "print(\"Before\")\n",
        "print(areas)\n",
        "\n",
        "#ปรับพื้นที่ของ BMW เป็น 1869.39 \n",
        "areas[3] = 1869.39\n",
        "#ปรับพื้นที่ของ Bentley เป็น 1173.49 \n",
        "areas[-1] = 1173.49\n",
        "\n",
        "#เปลี่ยน \"Mazda\" to \"Tesla\"\n",
        "areas[6] = \"Tesla\"\n",
        "\n",
        "#Print the areas variable lists\n",
        "print(\"After\")\n",
        "print(areas)"
      ],
      "metadata": {
        "colab": {
          "base_uri": "https://localhost:8080/"
        },
        "id": "2ueDgojqWC1A",
        "outputId": "7c19212c-a91c-444a-d9c0-61ec0e710ed7"
      },
      "execution_count": null,
      "outputs": [
        {
          "output_type": "stream",
          "name": "stdout",
          "text": [
            "Before\n",
            "['Toyota', 1404.89, 'BMW', 1269.34, 'Honda', 1512.28, 'Mazda', 1620.14, 'Bentley', 171.49]\n",
            "After\n",
            "['Toyota', 1404.89, 'BMW', 1869.39, 'Honda', 1512.28, 'Tesla', 1620.14, 'Bentley', 1173.49]\n"
          ]
        }
      ]
    },
    {
      "cell_type": "markdown",
      "source": [
        "###Ex2.9 ใช้ Python ทำการ Extend a list"
      ],
      "metadata": {
        "id": "EAwKZmvx6pSR"
      }
    },
    {
      "cell_type": "code",
      "source": [
        "#Ex2.9 ใช้ Python ทำการ Extend a list\n",
        "#Create the areas list and make some changes\n",
        "areas = [\"Toyota\", 1404.89, \"BMW\", 1869.39, \"Honda\", 1512.28, \"Tesla\", 1620.14, \"Bentley\", 171.49]\n",
        "print('Before')\n",
        "print(areas)\n",
        "\n",
        "#Add Ferrari data to areas, new list is areas_1 1936.69\n",
        "print('After 1')\n",
        "add_areas = areas + [\"Ferrari\", 1936.69]\n",
        "print(add_areas)\n",
        "\n",
        "#Add Lamborghini data to areas_1, new list is areas_2 2148.38\n",
        "print('After 2')\n",
        "new_areas = add_areas + [\"Lamborghini\", 2148.38]\n",
        "print(new_areas)"
      ],
      "metadata": {
        "colab": {
          "base_uri": "https://localhost:8080/"
        },
        "id": "-SwBrEb66wf4",
        "outputId": "a87738c6-88e0-4688-b676-25193fcd8b3d"
      },
      "execution_count": null,
      "outputs": [
        {
          "output_type": "stream",
          "name": "stdout",
          "text": [
            "Before\n",
            "['Toyota', 1404.89, 'BMW', 1869.39, 'Honda', 1512.28, 'Tesla', 1620.14, 'Bentley', 171.49]\n",
            "After 1\n",
            "['Toyota', 1404.89, 'BMW', 1869.39, 'Honda', 1512.28, 'Tesla', 1620.14, 'Bentley', 171.49, 'Ferrari', 1936.69]\n",
            "After 2\n",
            "['Toyota', 1404.89, 'BMW', 1869.39, 'Honda', 1512.28, 'Tesla', 1620.14, 'Bentley', 171.49, 'Ferrari', 1936.69, 'Lamborghini', 2148.38]\n"
          ]
        }
      ]
    },
    {
      "cell_type": "markdown",
      "source": [
        "###Ex2.10 ใช้ Python ทำการ Delete list elements"
      ],
      "metadata": {
        "id": "_ZyOwvEx93Xs"
      }
    },
    {
      "cell_type": "code",
      "source": [
        "#Ex2.10 ใช้ Python ทำการ Delete list elements\n",
        "new_areas = ['Toyota', 1404.89, 'BMW', 1869.39, 'Honda', 1512.28, 'Tesla', 1620.14, \n",
        "             'Bentley', 171.49, 'Ferrari', 1936.69, 'Lamborghini', 2148.38]\n",
        "print('Before')\n",
        "print(new_areas)\n",
        "\n",
        "print('After 1')\n",
        "del(new_areas[12:14])\n",
        "print(new_areas)\n",
        "\n",
        "print('After 2')\n",
        "del(new_areas[2:4])\n",
        "print(new_areas)"
      ],
      "metadata": {
        "colab": {
          "base_uri": "https://localhost:8080/"
        },
        "id": "9WlwfU-e973g",
        "outputId": "2fc146b0-ccb4-42b4-895b-68d7c6a68234"
      },
      "execution_count": null,
      "outputs": [
        {
          "output_type": "stream",
          "name": "stdout",
          "text": [
            "Before\n",
            "['Toyota', 1404.89, 'BMW', 1869.39, 'Honda', 1512.28, 'Tesla', 1620.14, 'Bentley', 171.49, 'Ferrari', 1936.69, 'Lamborghini', 2148.38]\n",
            "After 1\n",
            "['Toyota', 1404.89, 'BMW', 1869.39, 'Honda', 1512.28, 'Tesla', 1620.14, 'Bentley', 171.49, 'Ferrari', 1936.69]\n",
            "After 2\n",
            "['Toyota', 1404.89, 'Honda', 1512.28, 'Tesla', 1620.14, 'Bentley', 171.49, 'Ferrari', 1936.69]\n"
          ]
        }
      ]
    },
    {
      "cell_type": "markdown",
      "source": [
        "###Ex2.11 ใช้ Python ทำ Inner workings of lists\n"
      ],
      "metadata": {
        "id": "ekDpbvPH_cYC"
      }
    },
    {
      "cell_type": "code",
      "source": [
        "#Ex2.11 ใช้ Python ทำ Inner workings of lists\n",
        "#Create list areas\n",
        "areas = [1404.89, 1512.28, 1620.14, 171.49, 1936.69]\n",
        "print(\"Before\")\n",
        "print(areas)\n",
        "\n",
        "#Create areas_copy\n",
        "areas_copy = list(areas)\n",
        "\n",
        "#Change areas_copy\n",
        "areas_copy[0] = 1638.34\n",
        "\n",
        "#Print areas_copy\n",
        "print(\"After\")\n",
        "print(areas_copy)"
      ],
      "metadata": {
        "colab": {
          "base_uri": "https://localhost:8080/"
        },
        "id": "toK7geKJ_zd8",
        "outputId": "40ade667-bd35-492d-9726-45539663f417"
      },
      "execution_count": null,
      "outputs": [
        {
          "output_type": "stream",
          "name": "stdout",
          "text": [
            "Before\n",
            "[1404.89, 1512.28, 1620.14, 171.49, 1936.69]\n",
            "After\n",
            "[1638.34, 1512.28, 1620.14, 171.49, 1936.69]\n"
          ]
        }
      ]
    }
  ]
}