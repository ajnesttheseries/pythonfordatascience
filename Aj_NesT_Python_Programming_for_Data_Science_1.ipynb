{
  "nbformat": 4,
  "nbformat_minor": 0,
  "metadata": {
    "colab": {
      "provenance": [],
      "collapsed_sections": []
    },
    "kernelspec": {
      "name": "python3",
      "display_name": "Python 3"
    },
    "language_info": {
      "name": "python"
    }
  },
  "cells": [
    {
      "cell_type": "markdown",
      "source": [
        "#Learn to Python Programming\n",
        "\n",
        "![Python-Logo.webp](data:image/webp;base64,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)\n",
        "\n",
        "Todsapon Banklongsi\n",
        "\n",
        "[Aj. NesT the Series](https://youtube.com/ajnesttheseries)"
      ],
      "metadata": {
        "id": "xn5B9RYnmpRm"
      }
    },
    {
      "cell_type": "markdown",
      "source": [
        "#ประโยชน์ของการเขียนโปรแกรมภาษา Python\n",
        "\n",
        "1) เป็นเครื่องมือช่วยในการคำนวณต่าง ๆ ได้อย่างรวดเร็ว\n",
        "\n",
        "2) ใช้ในการพัฒนาเว็บไซต์ที่ขับเคลื่อนด้วยข้อมูล\n",
        "\n",
        "3) ใช้ในการทำความสะอาดข้อมูลและวิเคราะห์ผลการสำรวจความพึงพอใจล่าสุด\n",
        "\n",
        "4) ใช้ในงานด้าน Data Science ต่าง ๆ\n"
      ],
      "metadata": {
        "id": "202O_4e-siRD"
      }
    },
    {
      "cell_type": "markdown",
      "source": [
        "##1. Basic Python Programming\n",
        "\n",
        "###Ex1.1 ใช้ Python แสดงข้อความที่ต้องการ Show Texts\n",
        "\n",
        "**คำสั่ง print แสดงข้อความหรือตัวเลขที่ต้องการ**\n",
        "\n",
        "**Syntax:** print('ข้อความ') หรือ print(\"ข้อความ\")\n",
        "\n",
        "#### # คือ Comment สำหรับใส่คำบรรยาย"
      ],
      "metadata": {
        "id": "KvwYH6RznM8v"
      }
    },
    {
      "cell_type": "code",
      "execution_count": null,
      "metadata": {
        "colab": {
          "base_uri": "https://localhost:8080/"
        },
        "id": "-w2wC8OLmgmr",
        "outputId": "a25c9256-c3f2-4fd6-80e7-bf083275f316"
      },
      "outputs": [
        {
          "output_type": "stream",
          "name": "stdout",
          "text": [
            "Hello Python Programming\n",
            "Hello Python World\n"
          ]
        }
      ],
      "source": [
        "#Ex1.1 ใช้ Python แสดงข้อความที่ต้องการ Show Texts\n",
        "print('Hello Python Programming')\n",
        "print(\"Hello Python World\")"
      ]
    },
    {
      "cell_type": "markdown",
      "source": [
        "###Ex1.2 ใช้ Python เป็น Calculator แสดงผลการคำนวณทางคณิตศาสตร์\n",
        "\n",
        "**คำสั่ง print แสดงข้อความหรือตัวเลขที่ต้องการ**\n",
        "\n",
        "**Syntax:** print(คำนวณตัวเลขทางคณิตศาสตร์)"
      ],
      "metadata": {
        "id": "0WcslBMNqqot"
      }
    },
    {
      "cell_type": "code",
      "source": [
        "#Ex1.2 ใช้ Python เป็น Calculator แสดงผลการคำนวณทางคณิตศาสตร์ \n",
        "#1) Addition การบวก\n",
        "print(3+9)\n",
        "#2) Subtraction การลบ\n",
        "print(9-3)\n",
        "#3) Muplication การคูณ\n",
        "print(4*8)\n",
        "#4) Division การหาร\n",
        "print(18/3.8)\n",
        "#5) Modulo การ mode หารเข้าเศษ \n",
        "print(16 % 7)\n",
        "#6) Exponentialtion เลขยกกำลัง\n",
        "print(3 ** 2)\n",
        "\n",
        "#โจทย์ สมมติว่าคุณมีเงิน 100,000 บาท นำไปลงทุนซื้อหุ้นได้ผลตอบแทน 10% ต่อปี เมื่อเวลาผ่านไป 4 ปี จะได้เงินรวมเท่าไร?  \n",
        "print(\"Result:\")\n",
        "print(100000 * (1.1 ** 4))"
      ],
      "metadata": {
        "colab": {
          "base_uri": "https://localhost:8080/"
        },
        "id": "YmlpHQUEq0J5",
        "outputId": "ba4ce597-a2f7-47a6-b179-7e3309360924"
      },
      "execution_count": null,
      "outputs": [
        {
          "output_type": "stream",
          "name": "stdout",
          "text": [
            "12\n",
            "6\n",
            "32\n",
            "4.736842105263158\n",
            "2\n",
            "9\n",
            "Result:\n",
            "146410.00000000003\n"
          ]
        }
      ]
    },
    {
      "cell_type": "markdown",
      "source": [
        "###Ex1.3 ใช้ Python กำหนดค่าตัวแปร Variable Assignment\n",
        "\n",
        "**สามารถใช้ Python สร้างตัวแปรเพื่อช่วยในการกำหนดค่าอ้่างอิงต่าง ๆ**\n",
        "\n",
        "**Syntax:** ตัวแปร = ค่าข้อมูล เช่น money = 100000\n"
      ],
      "metadata": {
        "id": "Ig_YS0yX9qZM"
      }
    },
    {
      "cell_type": "code",
      "source": [
        "#Ex1.3 ใช้ Python กำหนดค่าตัวแปร Variable Assignment\n",
        "#สร้างตัวแปรเก็บเงินลงทุน 100,000 บาท ชื่อ money\n",
        "money = 100000\n",
        "#แสดงยอดเงินลงทุน\n",
        "print(money)"
      ],
      "metadata": {
        "colab": {
          "base_uri": "https://localhost:8080/"
        },
        "id": "l-ed3jgA-Fu_",
        "outputId": "920522bf-7ca1-4abe-82ac-00d123224b78"
      },
      "execution_count": null,
      "outputs": [
        {
          "output_type": "stream",
          "name": "stdout",
          "text": [
            "100000\n"
          ]
        }
      ]
    },
    {
      "cell_type": "markdown",
      "source": [
        "###Ex1.4 ใช้ Python ทำการคำนวณค่าตัวแปร Calculations with Variables\n",
        "\n",
        "**โจทย์ คุณมีเงิน 100,000 บาท นำไปลงทุนได้ผลตอบแทน 10% ต่อปี ถ้าลงทุน 4 ปี จะได้เงินรวมเป็นเท่าไร** "
      ],
      "metadata": {
        "id": "En-348BhAXyU"
      }
    },
    {
      "cell_type": "code",
      "source": [
        "#Ex1.4 ใช้ Python ทำการคำนวณค่าตัวแปร Calculations with Variables\n",
        "#Step 1: สร้างตัวแปรเก็บเงินลงทุน 100,000 บาท ชื่อ money เป็น Data Type ชนิดตัวแปร int\n",
        "money = 100000\n",
        "#Step 2: สร้างตัวแปรเก็บผลตอบแทน 10% ต่อปี ชื่อ growth เป็น Data Type ชนิดตัวแปร float\n",
        "growth = 1.1\n",
        "#Step 3: สร้างสูตรคำนวณผลตอบแทน 10% ต่อปี เป็นจำนวน 4 ปี เก็บที่ตัวแปรชื่อ result \n",
        "result = (money * (growth ** 4))\n",
        "#Step 4: แสดงผลการคำนวณ result เป็น Data Type ชนิดตัวแปร float\n",
        "print(result)"
      ],
      "metadata": {
        "colab": {
          "base_uri": "https://localhost:8080/"
        },
        "id": "lEeRq09gA5hn",
        "outputId": "210a660d-7ce7-4cd0-e036-2e611d517e2a"
      },
      "execution_count": null,
      "outputs": [
        {
          "output_type": "stream",
          "name": "stdout",
          "text": [
            "146410.00000000003\n"
          ]
        }
      ]
    },
    {
      "cell_type": "code",
      "source": [
        "#Check Data Types ชนิดของตัวแปร money, growth, result\n",
        "dtype_1 = type(money)\n",
        "dtype_2 = type(growth)\n",
        "dtype_3 = type(result)\n",
        "print(dtype_1)\n",
        "print(dtype_2)\n",
        "print(dtype_3)"
      ],
      "metadata": {
        "colab": {
          "base_uri": "https://localhost:8080/"
        },
        "id": "KnOMUWvBLp3S",
        "outputId": "5dbd126d-12fe-4b4c-c34f-e264f04ddc4d"
      },
      "execution_count": null,
      "outputs": [
        {
          "output_type": "stream",
          "name": "stdout",
          "text": [
            "<class 'int'>\n",
            "<class 'float'>\n",
            "<class 'float'>\n"
          ]
        }
      ]
    },
    {
      "cell_type": "markdown",
      "source": [
        "###Ex1.5 ใช้ Python เก็บค่าและแสดงผลข้อมูลของตัวแปรชนิดต่าง ๆ Other Variable Types\n",
        "\n",
        "Escape Characters ถ้าต้องการแสดงเครื่องหมายพิเศษใช้ \\ เช่น \\\\\", \\\\', \\\\\\\n",
        "\n"
      ],
      "metadata": {
        "id": "cmUo1oIZFNAf"
      }
    },
    {
      "cell_type": "code",
      "source": [
        "#Ex1.5 ใช้ Python เก็บค่าและแสดงผลข้อมูลของตัวแปรชนิดต่าง ๆ Other Variable Types\n",
        "#Step 1: สร้างตัวแปรชื่อ name เก็บชื่อของตัวเอง เป็น Data Type ชนิดตัวแปร string\n",
        "name = 'Aj.NesT'\n",
        "#Step 2: สร้างตัวแปรชื่อ sentence แสดงคำพูด I love Python Programming เป็น Data Type ชนิดตัวแปร string\n",
        "sentence = '\\\"I love Python Programming\\\"'\n",
        "#Step 3: สร้างตัวแปรชื่อ trust เก็บค่าสิ่งที่พูดว่าเป็น True เป็น Data Type ชนิดตัวแปร boolean (True/False)\n",
        "trust = True\n",
        "#Step 4: สร้างตัวแปร result แสดงประโยค name + \" say \" + sentence \n",
        "result = name + \" says \" + sentence\n",
        "#Step 5: แสดงผลลัพธ์ของตัวแปร result และ trust\n",
        "print(result)\n",
        "print(trust)"
      ],
      "metadata": {
        "colab": {
          "base_uri": "https://localhost:8080/"
        },
        "id": "Rj1ecH8zHxEb",
        "outputId": "737cf264-63bd-4a83-805c-5f84e6b82e23"
      },
      "execution_count": null,
      "outputs": [
        {
          "output_type": "stream",
          "name": "stdout",
          "text": [
            "Aj.NesT says \"I love Python Programming\"\n",
            "True\n"
          ]
        }
      ]
    },
    {
      "cell_type": "code",
      "source": [
        "#Check Data Types ชนิดของตัวแปร name, sentence, result, trust\n",
        "print(type(name))\n",
        "print(type(sentence))\n",
        "print(type(result))\n",
        "print(type(trust))"
      ],
      "metadata": {
        "colab": {
          "base_uri": "https://localhost:8080/"
        },
        "id": "kMzdHwXWMWaC",
        "outputId": "42bca2ed-e455-4ea7-ac9b-3ec2653bc0da"
      },
      "execution_count": null,
      "outputs": [
        {
          "output_type": "stream",
          "name": "stdout",
          "text": [
            "<class 'str'>\n",
            "<class 'str'>\n",
            "<class 'str'>\n",
            "<class 'bool'>\n"
          ]
        }
      ]
    },
    {
      "cell_type": "markdown",
      "source": [
        "###Ex1.6 ใช้ Python สร้าง Operations เป็นตัวดำเนินการ"
      ],
      "metadata": {
        "id": "vDLWuYxYM1CG"
      }
    },
    {
      "cell_type": "code",
      "source": [
        "#Ex1.6 ใช้ Python สร้าง Operations เป็นตัวดำเนินการ\n",
        "money = 100000\n",
        "growth = 1.1\n",
        "year4 = money * (growth ** 4)\n",
        "print(year4)\n",
        "print(type(year4))\n",
        "name = 'Aj.NesT'\n",
        "sentence = '\\\"I love Python Programming\\\"'\n",
        "result = name + \" says \" + sentence\n",
        "print(result)\n",
        "print(type(result))"
      ],
      "metadata": {
        "colab": {
          "base_uri": "https://localhost:8080/"
        },
        "id": "hYoYD_WrPZjZ",
        "outputId": "35668244-77c3-4ab1-95a3-23e43174e4cb"
      },
      "execution_count": null,
      "outputs": [
        {
          "output_type": "stream",
          "name": "stdout",
          "text": [
            "146410.00000000003\n",
            "<class 'float'>\n",
            "Aj.NesT says \"I love Python Programming\"\n",
            "<class 'str'>\n"
          ]
        }
      ]
    },
    {
      "cell_type": "markdown",
      "source": [
        "###Ex1.7 ใช้ Python แปลงชนิดข้อมูล Type Conversion\n",
        "\n",
        "ในการแสดงผลแบบข้อความต้องมีการแปลงชนิดข้อมูลให้เป็น string โดยใช้คำสั่ง str(ตัวแปร)\n",
        "\n",
        "หรือ int(ตัวแปร), float(ตัวแปร), bool(ตัวแปร)"
      ],
      "metadata": {
        "id": "zKd7BO9NSSFB"
      }
    },
    {
      "cell_type": "code",
      "source": [
        "#Ex1.7 ใช้ Python แปลงชนิดข้อมูล Type Conversion\n",
        "#Definition of money and result\n",
        "money = 30000 #Data Type เป็น int\n",
        "result = 30000 * 1.2 ** 6 #เงิน 30,000 บาท ลงทุนผลตอบแทน 20% จำนวน 6 ปี Data Type เป็น float\n",
        "\n",
        "#Fix the printout แสดงผลยอดเงินรวมที่ได้\n",
        "#print(\"I invested with \" + money + \" and now have \" + result + \". Great!\") #Error\n",
        "print(\"I invested with \" + str(money) + \" and now have \" + str(result) + \". Great!\")\n",
        "\n",
        "#Definition of bonus\n",
        "bonus = \"18343.3248\"\n",
        "#total_result = result + bonus #Error\n",
        "total_result = result + float(bonus)\n",
        "print(total_result)"
      ],
      "metadata": {
        "colab": {
          "base_uri": "https://localhost:8080/"
        },
        "id": "LVZ03T9FSeM3",
        "outputId": "4900d6ee-e409-41d2-b5aa-dacfa9346438"
      },
      "execution_count": null,
      "outputs": [
        {
          "output_type": "stream",
          "name": "stdout",
          "text": [
            "I invested with 30000 and now have 89579.51999999997. Great!\n",
            "107922.84479999998\n"
          ]
        }
      ]
    },
    {
      "cell_type": "markdown",
      "source": [
        "###Ex1.8 ทดสอบความเข้าใจข้อใดแสดงผลได้ถูกต้อง"
      ],
      "metadata": {
        "id": "s6-fc6zOVsSd"
      }
    },
    {
      "cell_type": "code",
      "source": [
        "#Test 1\n",
        "print(\"I have been learning Python Programming for \" + str(8) + \" years now\")"
      ],
      "metadata": {
        "colab": {
          "base_uri": "https://localhost:8080/"
        },
        "id": "2ueDgojqWC1A",
        "outputId": "31cae0ec-9a6b-4efe-a16e-d0f3642ade7e"
      },
      "execution_count": null,
      "outputs": [
        {
          "output_type": "stream",
          "name": "stdout",
          "text": [
            "I have been learning Python Programming for 8 years now\n"
          ]
        }
      ]
    },
    {
      "cell_type": "code",
      "source": [
        "#Test 2\n",
        "print(True + False)"
      ],
      "metadata": {
        "colab": {
          "base_uri": "https://localhost:8080/"
        },
        "id": "9oMEffR9WHj0",
        "outputId": "6b4a780d-7d9f-49f7-a903-ff7f8ca8422d"
      },
      "execution_count": null,
      "outputs": [
        {
          "output_type": "stream",
          "name": "stdout",
          "text": [
            "1\n"
          ]
        }
      ]
    },
    {
      "cell_type": "code",
      "source": [
        "#Test 3\n",
        "print(\"I have been learning Python Programming for \" + 8 + \" years now\")"
      ],
      "metadata": {
        "colab": {
          "base_uri": "https://localhost:8080/"
        },
        "id": "uJk4HPPJWIv9",
        "outputId": "20b34f7c-ecea-4555-898b-56d305b2e759"
      },
      "execution_count": null,
      "outputs": [
        {
          "output_type": "stream",
          "name": "stdout",
          "text": [
            "I have been learning English for 9 years now\n"
          ]
        }
      ]
    },
    {
      "cell_type": "code",
      "source": [
        "#Test 4\n",
        "print(\"I said \" + (\"Chaiyo \" * 3) + \"Great!\")"
      ],
      "metadata": {
        "colab": {
          "base_uri": "https://localhost:8080/"
        },
        "id": "JwFHNhKmWKCr",
        "outputId": "498c87a8-7aa3-4b76-f8a1-0f67d2061030"
      },
      "execution_count": null,
      "outputs": [
        {
          "output_type": "stream",
          "name": "stdout",
          "text": [
            "I said Chaiyo Chaiyo Chaiyo Great!\n"
          ]
        }
      ]
    }
  ]
}