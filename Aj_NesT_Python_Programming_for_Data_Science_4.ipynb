{
  "nbformat": 4,
  "nbformat_minor": 0,
  "metadata": {
    "colab": {
      "provenance": [],
      "collapsed_sections": []
    },
    "kernelspec": {
      "name": "python3",
      "display_name": "Python 3"
    },
    "language_info": {
      "name": "python"
    }
  },
  "cells": [
    {
      "cell_type": "markdown",
      "source": [
        "#Learn to Python Programming\n",
        "\n",
        "![Python-Logo.webp](data:image/webp;base64,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)\n",
        "\n",
        "Todsapon Banklongsi\n",
        "\n",
        "[Aj. NesT the Series](https://youtube.com/ajnesttheseries)"
      ],
      "metadata": {
        "id": "xn5B9RYnmpRm"
      }
    },
    {
      "cell_type": "markdown",
      "source": [
        "##4. Python NumPy (Numeric Python)\n",
        "\n",
        "###Ex4.1 ใช้ Python NumPy ทำการเก็บค่าความสูง"
      ],
      "metadata": {
        "id": "KvwYH6RznM8v"
      }
    },
    {
      "cell_type": "code",
      "execution_count": null,
      "metadata": {
        "colab": {
          "base_uri": "https://localhost:8080/"
        },
        "id": "-w2wC8OLmgmr",
        "outputId": "5b667439-aa41-42dd-e77e-4cc4cda06c43"
      },
      "outputs": [
        {
          "output_type": "stream",
          "name": "stdout",
          "text": [
            "[178, 180, 168, 173, 189, 173, 193, 174]\n",
            "<class 'list'>\n",
            "[178 180 168 173 189 173 193 174]\n",
            "<class 'numpy.ndarray'>\n"
          ]
        }
      ],
      "source": [
        "#Ex4.1 ใช้ Python NumPy ทำการเก็บค่าความสูง\n",
        "#NumPy เป็นข้อมูลแบบ Array ที่ใช้ในการคำนวณข้อมูลย่อย ๆ ได้\n",
        "#Create List football players' height unit: cm\n",
        "football_height_cm = [178, 180, 168, 173, 189, 173, 193, 174]\n",
        "print(football_height_cm)\n",
        "print(type(football_height_cm))\n",
        "\n",
        "#Import the numpy package as np\n",
        "import numpy as np\n",
        "\n",
        "#Create a numpy array from football players' height\n",
        "np_football_height_cm = np.array(football_height_cm)\n",
        "\n",
        "#Print out values and type of np_football\n",
        "print(np_football_height_cm)\n",
        "print(type(np_football_height_cm))"
      ]
    },
    {
      "cell_type": "markdown",
      "source": [
        "###Ex4.2 ใช้ Python NumPy แปลงความสูงหน่วย cm เป็น m"
      ],
      "metadata": {
        "id": "0WcslBMNqqot"
      }
    },
    {
      "cell_type": "code",
      "source": [
        "#Ex4.2 ใช้ Python NumPy แปลงความสูงหน่วย เมตร เป็น นิ้ว\n",
        "#Create List football players' height\n",
        "football_height_cm = [178, 180, 168, 173, 189, 173, 193, 174]\n",
        "\n",
        "#Import the numpy package as np\n",
        "import numpy as np\n",
        "\n",
        "#Create a numpy array from football players' height\n",
        "np_football_height_cm = np.array(football_height_cm)\n",
        "#Print height cm\n",
        "print(np_football_height_cm)\n",
        "print(type(np_football_height_cm))\n",
        "\n",
        "#Convert height cm --> height m\n",
        "np_football_height_m = np_football_height_cm / 100\n",
        "\n",
        "#Print height m\n",
        "print(np_football_height_m)\n",
        "print(type(np_football_height_m))\n",
        "\n",
        "#Error ถ้าใช้ทั่วไปจะทำไม่ได้ ถ้าต้องการคำนวณภายในทุกตัวต้องใช้ Numpy\n",
        "#football_height_m = football_height_cm/100\n",
        "#print(football_height_m)"
      ],
      "metadata": {
        "colab": {
          "base_uri": "https://localhost:8080/"
        },
        "id": "YmlpHQUEq0J5",
        "outputId": "4c9d8d4e-5b95-450a-fe15-050b7658cc93"
      },
      "execution_count": null,
      "outputs": [
        {
          "output_type": "stream",
          "name": "stdout",
          "text": [
            "[178 180 168 173 189 173 193 174]\n",
            "<class 'numpy.ndarray'>\n",
            "[1.78 1.8  1.68 1.73 1.89 1.73 1.93 1.74]\n",
            "<class 'numpy.ndarray'>\n"
          ]
        }
      ]
    },
    {
      "cell_type": "markdown",
      "source": [
        "###Ex4.3 ใช้ Python NumPy คำนวณค่า BMI\n"
      ],
      "metadata": {
        "id": "Ig_YS0yX9qZM"
      }
    },
    {
      "cell_type": "code",
      "source": [
        "#Ex4.3 ใช้ Python NumPy คำนวณค่า BMI \n",
        "#BMI = weight(kg)/height(m^2)\n",
        "#Create List football players' height and weight\n",
        "football_height_cm = [178, 180, 168, 173, 189, 173, 193, 174]\n",
        "football_weight_kg = [60, 58, 79, 83, 63, 60, 79, 68]\n",
        "\n",
        "#Import the numpy package as np\n",
        "import numpy as np\n",
        "\n",
        "#Create a numpy array from football players' height\n",
        "np_football_height_cm = np.array(football_height_cm)\n",
        "\n",
        "#Create a numpy array from football players' weight\n",
        "np_football_weight_kg = np.array(football_weight_kg)\n",
        "print(\"Weight: \", np_football_weight_kg)\n",
        "\n",
        "#Convert height cm --> height m\n",
        "np_football_height_m = np_football_height_cm / 100\n",
        "print(\"Height: \", np_football_height_m)\n",
        "\n",
        "#Calulate the BMI\n",
        "bmi = np_football_weight_kg/(np_football_height_m ** 2)\n",
        "print(\"BMI: \", bmi)"
      ],
      "metadata": {
        "colab": {
          "base_uri": "https://localhost:8080/"
        },
        "id": "l-ed3jgA-Fu_",
        "outputId": "9b772b11-9b30-485b-bbc1-4554ce5f6197"
      },
      "execution_count": null,
      "outputs": [
        {
          "output_type": "stream",
          "name": "stdout",
          "text": [
            "Weight:  [60 58 79 83 63 60 79 68]\n",
            "Height:  [1.78 1.8  1.68 1.73 1.89 1.73 1.93 1.74]\n",
            "BMI:  [18.9370029  17.90123457 27.99036281 27.73229978 17.6366843  20.04744562\n",
            " 21.20862305 22.46003435]\n"
          ]
        }
      ]
    },
    {
      "cell_type": "markdown",
      "source": [
        "###Ex4.4 ใช้ Python NumPy เรียกใช้ Subsetting Numpy Arrays"
      ],
      "metadata": {
        "id": "vDLWuYxYM1CG"
      }
    },
    {
      "cell_type": "code",
      "source": [
        "#Ex4.4 ใช้ Python NumPy เรียกใช้ Subsetting NumPy Arrays\n",
        "#Create List football players' height and weight\n",
        "football_height_cm = [178, 180, 168, 173, 189, 173, 193, 174]\n",
        "football_weight_kg = [60, 58, 79, 83, 63, 60, 79, 68]\n",
        "\n",
        "#Import the numpy package as np\n",
        "import numpy as np\n",
        "\n",
        "#Create a numpy array from football players' height\n",
        "np_football_height_cm = np.array(football_height_cm)\n",
        "\n",
        "#Create a numpy array from football players' weight\n",
        "np_football_weight_kg = np.array(football_weight_kg)\n",
        "print(\"Weight: \", np_football_weight_kg)\n",
        "\n",
        "#Convert height cm --> height m\n",
        "np_football_height_m = np_football_height_cm / 100\n",
        "print(\"Height: \", np_football_height_m)\n",
        "\n",
        "#Subsetting Numpy Array\n",
        "#Print out weight and height at index 3 \n",
        "print(\"Weight Index 3: \", np_football_weight_kg[3])\n",
        "print(\"Height Index 3: \", np_football_height_m[3])\n",
        "\n",
        "#Print out weight and height at index 0 - 4\n",
        "print(\"Weight Index 0-4: \", np_football_weight_kg[0:5])\n",
        "print(\"Height Index 0-4: \", np_football_height_m[0:5])\n",
        "\n",
        "#Print out weight and height at index 3 - 6\n",
        "print(\"Weight Index 3-6: \", np_football_weight_kg[3:7])\n",
        "print(\"Height Index 3-6: \", np_football_height_m[3:7])\n",
        "\n",
        "#Print out weight and height at index 3 to end\n",
        "print(\"Weight Index 3 to end: \", np_football_weight_kg[3:])\n",
        "print(\"Height Index 3 to end: \", np_football_height_m[3:])"
      ],
      "metadata": {
        "colab": {
          "base_uri": "https://localhost:8080/"
        },
        "id": "hYoYD_WrPZjZ",
        "outputId": "6cfb6571-1dcf-4c79-970f-19662fff08c9"
      },
      "execution_count": null,
      "outputs": [
        {
          "output_type": "stream",
          "name": "stdout",
          "text": [
            "Weight:  [60 58 79 83 63 60 79 68]\n",
            "Height:  [1.78 1.8  1.68 1.73 1.89 1.73 1.93 1.74]\n",
            "Weight Index 3:  83\n",
            "Height Index 3:  1.73\n",
            "Weight Index 0-4:  [60 58 79 83 63]\n",
            "Height Index 0-4:  [1.78 1.8  1.68 1.73 1.89]\n",
            "Weight Index 3-6:  [83 63 60 79]\n",
            "Height Index 3-6:  [1.73 1.89 1.73 1.93]\n",
            "Weight Index 3 to end:  [83 63 60 79 68]\n",
            "Height Index 3 to end:  [1.73 1.89 1.73 1.93 1.74]\n"
          ]
        }
      ]
    },
    {
      "cell_type": "markdown",
      "source": [
        "###Ex4.5 ใช้ Python NumPy สร้างเงื่อนไขตรวจสอบข้อมูล"
      ],
      "metadata": {
        "id": "En-348BhAXyU"
      }
    },
    {
      "cell_type": "code",
      "source": [
        "#Ex4.5 ใช้ Python NumPy สร้างเงื่อนไขตรวจสอบข้อมูล\n",
        "#BMI = weight(kg)/height(m^2)\n",
        "#Create List football players' height and weight\n",
        "football_height_cm = [178, 180, 168, 173, 189, 173, 193, 174]\n",
        "football_weight_kg = [60, 58, 79, 83, 63, 60, 79, 68]\n",
        "\n",
        "#Import the numpy package as np\n",
        "import numpy as np\n",
        "\n",
        "#Create a numpy array from football players' height\n",
        "np_football_height_cm = np.array(football_height_cm)\n",
        "\n",
        "#Create a numpy array from football players' weight\n",
        "np_football_weight_kg = np.array(football_weight_kg)\n",
        "print(\"Weight: \", np_football_weight_kg)\n",
        "\n",
        "#Convert height cm --> height m\n",
        "np_football_height_m = np_football_height_cm / 100\n",
        "print(\"Height: \", np_football_height_m)\n",
        "\n",
        "#Calulate the BMI\n",
        "bmi = np_football_weight_kg/(np_football_height_m ** 2)\n",
        "print(\"BMI: \", bmi)\n",
        "print()\n",
        "\n",
        "### Check BMI Values\n",
        "underweight = bmi < 18.5\n",
        "print(\"Underweight: \")\n",
        "print(underweight)\n",
        "print(bmi[underweight])"
      ],
      "metadata": {
        "colab": {
          "base_uri": "https://localhost:8080/"
        },
        "id": "lEeRq09gA5hn",
        "outputId": "ef369dc9-cc26-4744-a17c-21d45fd9da30"
      },
      "execution_count": null,
      "outputs": [
        {
          "output_type": "stream",
          "name": "stdout",
          "text": [
            "Weight:  [60 58 79 83 63 60 79 68]\n",
            "Height:  [1.78 1.8  1.68 1.73 1.89 1.73 1.93 1.74]\n",
            "BMI:  [18.9370029  17.90123457 27.99036281 27.73229978 17.6366843  20.04744562\n",
            " 21.20862305 22.46003435]\n",
            "\n",
            "Underweight: \n",
            "[False  True False False  True False False False]\n",
            "[17.90123457 17.6366843 ]\n"
          ]
        }
      ]
    },
    {
      "cell_type": "markdown",
      "source": [
        "###Ex4.6 ใช้ Python NumPy เรียนรู้การใช้งาน Arithmetic Operators\n"
      ],
      "metadata": {
        "id": "cmUo1oIZFNAf"
      }
    },
    {
      "cell_type": "code",
      "source": [
        "#Ex4.6 ใช้ Python NumPy เรียนรู้การใช้งาน Arithmetic Operators\n",
        "#Import numpy\n",
        "import numpy as np\n",
        "\n",
        "ans1 = np.array([True, 2, 4, 6, 8, False])\n",
        "print(ans1)\n",
        "ans2 = np.array([2, 6, 8]) + np.array([6, 12, 18])\n",
        "print(ans2)\n",
        "ans3 = np.array([1, 3, 2]) * np.array([3, 6, -1])\n",
        "print(ans3)\n",
        "ans4 = np.array([0, 1, 2, 3, 4, 5, 6])\n",
        "print(ans4)"
      ],
      "metadata": {
        "colab": {
          "base_uri": "https://localhost:8080/"
        },
        "id": "Rj1ecH8zHxEb",
        "outputId": "d34b4b16-8e04-456e-a0c0-174085c222ea"
      },
      "execution_count": null,
      "outputs": [
        {
          "output_type": "stream",
          "name": "stdout",
          "text": [
            "[1 2 4 6 8 0]\n",
            "[ 8 18 26]\n",
            "[ 3 18 -2]\n",
            "[0 1 2 3 4 5 6]\n"
          ]
        }
      ]
    },
    {
      "cell_type": "markdown",
      "source": [
        "###Ex4.7 ใช้ Python NumPy สร้าง 2D Numpy Arrays"
      ],
      "metadata": {
        "id": "zKd7BO9NSSFB"
      }
    },
    {
      "cell_type": "code",
      "source": [
        "#Ex4.7 ใช้ Python NumPy สร้าง 2D NumPy Arrays\n",
        "#1D Numpy Array\n",
        "#football_height_cm = [178, 180, 168, 173, 189, 173, 193, 174]\n",
        "#football_weight_kg = [60, 58, 79, 83, 63, 60, 79, 68]\n",
        "\n",
        "#2D Numpy Array\n",
        "#Create List football players' height and weight --> a List of Lists \n",
        "football_height_weight = [[178, 60],\n",
        "                          [180, 58],\n",
        "                          [168, 79],\n",
        "                          [173, 83],\n",
        "                          [189, 63],\n",
        "                          [173, 60],\n",
        "                          [193, 79],\n",
        "                          [174, 68]]\n",
        "\n",
        "print(football_height_weight)\n",
        "print(type(football_height_weight))\n",
        "print()\n",
        "\n",
        "#Import numpy\n",
        "import numpy as np\n",
        "\n",
        "#Create a 2D numpy array from football_height_weight\n",
        "np_football = np.array(football_height_weight)\n",
        "\n",
        "#Print out np_football\n",
        "print(np_football)\n",
        "\n",
        "#Print out the type of np_football\n",
        "print(type(np_football))\n",
        "\n",
        "#Print out the shape (col, row) of np_football\n",
        "print(np_football.shape)"
      ],
      "metadata": {
        "colab": {
          "base_uri": "https://localhost:8080/"
        },
        "id": "LVZ03T9FSeM3",
        "outputId": "9161ea06-166c-42b1-877b-ebd9e3317a4c"
      },
      "execution_count": null,
      "outputs": [
        {
          "output_type": "stream",
          "name": "stdout",
          "text": [
            "[[178, 60], [180, 58], [168, 79], [173, 83], [189, 63], [173, 60], [193, 79], [174, 68]]\n",
            "<class 'list'>\n",
            "\n",
            "[[178  60]\n",
            " [180  58]\n",
            " [168  79]\n",
            " [173  83]\n",
            " [189  63]\n",
            " [173  60]\n",
            " [193  79]\n",
            " [174  68]]\n",
            "<class 'numpy.ndarray'>\n",
            "(8, 2)\n"
          ]
        }
      ]
    },
    {
      "cell_type": "markdown",
      "source": [
        "###Ex4.8 ใช้ Python NumPy เรียกใช้ Subsetting 2D NumPy Arrays"
      ],
      "metadata": {
        "id": "yTb9D1zeOrtz"
      }
    },
    {
      "cell_type": "code",
      "source": [
        "#Ex4.8 ใช้ Python NumPy เรียกใช้ Subsetting 2D NumPy Arrays\n",
        "#2D NumPy Array\n",
        "#Create List football players' height and weight --> a List of Lists \n",
        "football_height_weight = [[178, 60],\n",
        "                          [180, 58],\n",
        "                          [168, 79],\n",
        "                          [173, 83],\n",
        "                          [189, 63],\n",
        "                          [173, 60],\n",
        "                          [193, 79],\n",
        "                          [174, 68]]\n",
        "\n",
        "print(football_height_weight)\n",
        "print(type(football_height_weight))\n",
        "print()\n",
        "\n",
        "#Import numpy\n",
        "import numpy as np\n",
        "\n",
        "#Create a 2D numpy array from football_height_weight\n",
        "np_football = np.array(football_height_weight)\n",
        "\n",
        "#Print out Subsetting 2D Numpy Arrays\n",
        "print(\"Print out data of 4th: \")\n",
        "print(np_football[3,:])\n",
        "print(\"Print out weight of players: \")\n",
        "print(np_football[:,1])\n",
        "print(\"Print out height of 6th player: \")\n",
        "print(np_football[5,0])"
      ],
      "metadata": {
        "colab": {
          "base_uri": "https://localhost:8080/"
        },
        "id": "9JUGCIyzPAQ2",
        "outputId": "51c483b5-c2c7-46e8-9d82-9085962b3d30"
      },
      "execution_count": null,
      "outputs": [
        {
          "output_type": "stream",
          "name": "stdout",
          "text": [
            "[[178, 60], [180, 58], [168, 79], [173, 83], [189, 63], [173, 60], [193, 79], [174, 68]]\n",
            "<class 'list'>\n",
            "\n",
            "Print out data of 4th: \n",
            "[173  83]\n",
            "Print out weight of players: \n",
            "[60 58 79 83 63 60 79 68]\n",
            "Print out height of 6th player: \n",
            "173\n"
          ]
        }
      ]
    },
    {
      "cell_type": "markdown",
      "source": [
        "###Ex4.9 ใช้ Python NumPy คำนวณ 2D Arithmetic Operators"
      ],
      "metadata": {
        "id": "fi8U7paoOzCe"
      }
    },
    {
      "cell_type": "code",
      "source": [
        "#Ex4.9 ใช้ Python NumPy คำนวณ 2D Arithmetic\n",
        "#2D NumPy Array\n",
        "#Create List football players' height, weight, and age --> a List of Lists \n",
        "football_height_weight_age = [[178, 60, 36],\n",
        "                              [180, 58, 18],\n",
        "                              [168, 79, 23],\n",
        "                              [173, 83, 38],\n",
        "                              [189, 63, 19],\n",
        "                              [173, 60, 20],\n",
        "                              [193, 79, 23],\n",
        "                              [174, 68, 28]]\n",
        "\n",
        "print(football_height_weight_age)\n",
        "print(type(football_height_weight_age))\n",
        "print()\n",
        "\n",
        "#Import numpy\n",
        "import numpy as np\n",
        "\n",
        "#Create a 2D numpy array from football_height_weight_age\n",
        "np_football = np.array(football_height_weight_age)\n",
        "print(\"Before Conversion: cm, kg, yr\")\n",
        "print(np_football)\n",
        "print(type(np_football))\n",
        "print()\n",
        "\n",
        "#Create a conversion varaible meter, lb, week \n",
        "#2D Arithmetic Operators --> * (1cm = 0.01 meter | 1kg = 2.20462 pounds | 1yr = 52.1429 weeks )\n",
        "conversion = np.array([0.01, 2.20462, 52.1429])\n",
        "print(\"After Conversion: m, lb, week\")\n",
        "print(np_football * conversion)\n",
        "print()\n",
        "\n",
        "#Create a conversion varaible in, lb, yr\n",
        "#2D Arithmetic Operators --> * (1cm = 0.393701 inches | 1kg = 2.20462 pounds | 1yr = 1 year )\n",
        "conversion2 = np.array([0.393701, 2.20462, 1])\n",
        "print(\"After Conversion: in, lb, yr\")\n",
        "print(np_football * conversion2)"
      ],
      "metadata": {
        "colab": {
          "base_uri": "https://localhost:8080/"
        },
        "id": "jo54pU5uO3pE",
        "outputId": "6346a321-183f-4163-c37c-2cf868bcba1e"
      },
      "execution_count": null,
      "outputs": [
        {
          "output_type": "stream",
          "name": "stdout",
          "text": [
            "[[178, 60, 36], [180, 58, 18], [168, 79, 23], [173, 83, 38], [189, 63, 19], [173, 60, 20], [193, 79, 23], [174, 68, 28]]\n",
            "<class 'list'>\n",
            "\n",
            "Before Conversion: cm, kg, yr\n",
            "[[178  60  36]\n",
            " [180  58  18]\n",
            " [168  79  23]\n",
            " [173  83  38]\n",
            " [189  63  19]\n",
            " [173  60  20]\n",
            " [193  79  23]\n",
            " [174  68  28]]\n",
            "<class 'numpy.ndarray'>\n",
            "\n",
            "After Conversion: m, lb, week\n",
            "[[1.7800000e+00 1.3227720e+02 1.8771444e+03]\n",
            " [1.8000000e+00 1.2786796e+02 9.3857220e+02]\n",
            " [1.6800000e+00 1.7416498e+02 1.1992867e+03]\n",
            " [1.7300000e+00 1.8298346e+02 1.9814302e+03]\n",
            " [1.8900000e+00 1.3889106e+02 9.9071510e+02]\n",
            " [1.7300000e+00 1.3227720e+02 1.0428580e+03]\n",
            " [1.9300000e+00 1.7416498e+02 1.1992867e+03]\n",
            " [1.7400000e+00 1.4991416e+02 1.4600012e+03]]\n",
            "\n",
            "After Conversion: in, lb, yr\n",
            "[[ 70.078778 132.2772    36.      ]\n",
            " [ 70.86618  127.86796   18.      ]\n",
            " [ 66.141768 174.16498   23.      ]\n",
            " [ 68.110273 182.98346   38.      ]\n",
            " [ 74.409489 138.89106   19.      ]\n",
            " [ 68.110273 132.2772    20.      ]\n",
            " [ 75.984293 174.16498   23.      ]\n",
            " [ 68.503974 149.91416   28.      ]]\n"
          ]
        }
      ]
    },
    {
      "cell_type": "markdown",
      "source": [
        "###Ex4.10 ใช้ Python NumPy คำนวณค่าทาง Statistics"
      ],
      "metadata": {
        "id": "eZt4HFmlxNMe"
      }
    },
    {
      "cell_type": "code",
      "source": [
        "#Ex4.10 ใช้ Python NumPy Statistics คำนวณค่าทาง Statistics\n",
        "#Create List football players' height, weight, and age --> a List of Lists \n",
        "football_height_weight_age = [[178, 60, 36],\n",
        "                              [180, 58, 18],\n",
        "                              [168, 79, 23],\n",
        "                              [173, 83, 38],\n",
        "                              [189, 63, 19],\n",
        "                              [173, 60, 20],\n",
        "                              [193, 79, 23],\n",
        "                              [174, 68, 28]]\n",
        "\n",
        "#Import numpy\n",
        "import numpy as np\n",
        "\n",
        "#Create a 2D numpy array from football_height_weight_age\n",
        "np_football = np.array(football_height_weight_age)   \n",
        "\n",
        "#Print out only height of football players\n",
        "np_football_height = np_football[:,0]\n",
        "print(np_football_height)\n",
        "\n",
        "#Print out statistics values of np_football_height\n",
        "print(\"Height\")\n",
        "print(\"Mean: \", np.mean(np_football_height))\n",
        "print(\"Average: \", np.average(np_football_height))\n",
        "print(\"Medain: \", np.median(np_football_height))\n",
        "print(\"Standard Deviation: \", np.std(np_football_height))\n",
        "print(\"Variance: \", np.var(np_football_height))\n",
        "print()\n",
        "\n",
        "#Print out only weight of football players\n",
        "np_football_weight = np_football[:,1]\n",
        "print(np_football_weight)\n",
        "\n",
        "#Print out statistics values of np_football_weight\n",
        "print(\"Weight\")\n",
        "print(\"Mean: \", np.mean(np_football_weight))\n",
        "print(\"Average: \", np.average(np_football_weight))\n",
        "print(\"Medain: \", np.median(np_football_weight))\n",
        "print(\"Standard Deviation: \", np.std(np_football_weight))\n",
        "print(\"Variance: \", np.var(np_football_weight))\n",
        "print()\n",
        "\n",
        "#Print out only age of football players\n",
        "np_football_age = np_football[:,2]\n",
        "print(np_football_age)\n",
        "\n",
        "#Print out statistics values of np_football_age\n",
        "print(\"Age\")\n",
        "print(\"Mean: \", np.mean(np_football_age))\n",
        "print(\"Average: \", np.average(np_football_age))\n",
        "print(\"Medain: \", np.median(np_football_age))\n",
        "print(\"Standard Deviation: \", np.std(np_football_age))\n",
        "print(\"Variance: \", np.var(np_football_age))\n",
        "print()"
      ],
      "metadata": {
        "colab": {
          "base_uri": "https://localhost:8080/"
        },
        "id": "4OJPqmB2yaLu",
        "outputId": "8901d0fe-9a77-4887-9829-671611971e1c"
      },
      "execution_count": null,
      "outputs": [
        {
          "output_type": "stream",
          "name": "stdout",
          "text": [
            "[178 180 168 173 189 173 193 174]\n",
            "Height\n",
            "Mean:  178.5\n",
            "Average:  178.5\n",
            "Medain:  176.0\n",
            "Standard Deviation:  8.0156097709407\n",
            "Variance:  64.25\n",
            "\n",
            "[60 58 79 83 63 60 79 68]\n",
            "Weight\n",
            "Mean:  68.75\n",
            "Average:  68.75\n",
            "Medain:  65.5\n",
            "Standard Deviation:  9.45714015968887\n",
            "Variance:  89.4375\n",
            "\n",
            "[36 18 23 38 19 20 23 28]\n",
            "Age\n",
            "Mean:  25.625\n",
            "Average:  25.625\n",
            "Medain:  23.0\n",
            "Standard Deviation:  7.192661190407901\n",
            "Variance:  51.734375\n",
            "\n"
          ]
        }
      ]
    },
    {
      "cell_type": "markdown",
      "source": [
        "###Ex4.11 ใช้ Python NumPy คำนวณค่าทาง Statistics และหาค่า Correlation Coefficient"
      ],
      "metadata": {
        "id": "adnTVLW-35us"
      }
    },
    {
      "cell_type": "code",
      "source": [
        "#Ex4.11 ใช้ Python NumPy คำนวณค่าทาง Statistics\n",
        "#Create List football players' height, weight, and age --> a List of Lists \n",
        "football_height_weight_age = [[178, 60, 36],\n",
        "                              [180, 58, 18],\n",
        "                              [168, 79, 23],\n",
        "                              [173, 83, 38],\n",
        "                              [189, 63, 19],\n",
        "                              [173, 60, 20],\n",
        "                              [193, 79, 23],\n",
        "                              [174, 68, 28]]\n",
        "\n",
        "#Import numpy\n",
        "import numpy as np\n",
        "\n",
        "#Create a 2D numpy array from football_height_weight_age\n",
        "np_football = np.array(football_height_weight_age)\n",
        "\n",
        "#Print mean height (first column)\n",
        "avg = np.mean(np_football[:,0])\n",
        "#String + String\n",
        "print(\"Average: \" + str(avg))\n",
        "\n",
        "#Print median height\n",
        "med = np.median(np_football[:,0])\n",
        "print(\"Medain: \" + str(med))\n",
        "\n",
        "#Print out the standard deviation on height\n",
        "stddev = np.std(np_football[:,0])\n",
        "print(\"Standard Deviation: \" + str(stddev))\n",
        "\n",
        "#Print out correlation between first (Height) and second (Weight) column\n",
        "corr = np.corrcoef(np_football[:,0], np_football[:,1])\n",
        "print(\"Correlation Coefficient between Height and Weight\")\n",
        "print(\"Correlation: \" + str(corr))\n",
        "\n",
        "#Print out correlation between second (Weight) and third (Age) column\n",
        "corr = np.corrcoef(np_football[:,1], np_football[:,2])\n",
        "print(\"Correlation Coefficient between Weight and Age\")\n",
        "print(\"Correlation: \" + str(corr))\n",
        "\n",
        "#Print out correlation between first (Height) and third (Age) column\n",
        "corr = np.corrcoef(np_football[:,0], np_football[:,2])\n",
        "print(\"Correlation Coefficient between Height and Age\")\n",
        "print(\"Correlation: \" + str(corr))"
      ],
      "metadata": {
        "colab": {
          "base_uri": "https://localhost:8080/"
        },
        "id": "WOanlILLGouX",
        "outputId": "75ff04ab-87a0-4d66-fd16-cbf243401de5"
      },
      "execution_count": null,
      "outputs": [
        {
          "output_type": "stream",
          "name": "stdout",
          "text": [
            "Average: 178.5\n",
            "Medain: 176.0\n",
            "Standard Deviation: 8.0156097709407\n",
            "Correlation Coefficient between Height and Weight\n",
            "Correlation: [[ 1.         -0.09564045]\n",
            " [-0.09564045  1.        ]]\n",
            "Correlation Coefficient between Weight and Age\n",
            "Correlation: [[1.        0.3661499]\n",
            " [0.3661499 1.       ]]\n",
            "Correlation Coefficient between Height and Age\n",
            "Correlation: [[ 1.         -0.31329372]\n",
            " [-0.31329372  1.        ]]\n"
          ]
        }
      ]
    },
    {
      "cell_type": "markdown",
      "source": [
        "###Ex4.12 ใช้ Python NumPy คำนวณค่าทาง Statistics ของนักฟุตบอลตำแหน่งต่าง ๆ "
      ],
      "metadata": {
        "id": "9VwJwFr8Lm-L"
      }
    },
    {
      "cell_type": "code",
      "source": [
        "#Ex4.12 ใช้ Python NumPy คำนวณค่าทาง Statistics ของนักฟุตบอลตำแหน่งต่าง ๆ\n",
        "#GK = Golakeeper | M = Midfield | A = Attack | D = Defense \n",
        "position = ['GK', 'M', 'A', 'D', 'M', 'D', 'GK', 'M', 'M', 'A', 'M', 'GK', 'D', 'D', 'GK', 'M']\n",
        "height = [191, 184, 185, 180, 181, 187, 170, 179, 183, 186, 185, 170, 187, 183, 173, 188]\n",
        "\n",
        "#Convert lists to numpy arrays\n",
        "np_position = np.array(position)\n",
        "np_height = np.array(height)\n",
        "print(np_position)\n",
        "print(type(np_position))\n",
        "print(np_height)\n",
        "print(type(np_height))\n",
        "print()\n",
        "\n",
        "#Height of the Goalkeepers\n",
        "gk_height = np_height[np_position == 'GK']\n",
        "\n",
        "#Height of the other players\n",
        "other_height = np_height[np_position != 'GK']\n",
        "\n",
        "#Print out the median height of Goalkeepers\n",
        "print(\"Median height of Goalkeepers: \" + str(np.median(gk_height)) + \" cm\")\n",
        "\n",
        "#Print out the median height of Other Players\n",
        "print(\"Median height of Other Players: \" + str(np.median(other_height)) + \" cm\")\n",
        "\n",
        "#Print out the mean height of Goalkeepers\n",
        "print(\"Mean height of Goalkeepers: \" + str(np.mean(gk_height)) + \" cm\")\n",
        "\n",
        "#Print out the mean height of Other Players\n",
        "print(\"Mean height of Other Players: \" + str(np.mean(other_height)) + \" cm\")"
      ],
      "metadata": {
        "id": "dqEn0Fq-L47U",
        "colab": {
          "base_uri": "https://localhost:8080/"
        },
        "outputId": "466b51db-7c02-49b9-e47f-176f202e52a9"
      },
      "execution_count": null,
      "outputs": [
        {
          "output_type": "stream",
          "name": "stdout",
          "text": [
            "['GK' 'M' 'A' 'D' 'M' 'D' 'GK' 'M' 'M' 'A' 'M' 'GK' 'D' 'D' 'GK' 'M']\n",
            "<class 'numpy.ndarray'>\n",
            "[191 184 185 180 181 187 170 179 183 186 185 170 187 183 173 188]\n",
            "<class 'numpy.ndarray'>\n",
            "\n",
            "Median height of Goalkeepers: 171.5 cm\n",
            "Median height of Other Players: 184.5 cm\n",
            "Mean height of Goalkeepers: 176.0 cm\n",
            "Mean height of Other Players: 184.0 cm\n"
          ]
        }
      ]
    }
  ]
}